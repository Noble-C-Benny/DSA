{
  "nbformat": 4,
  "nbformat_minor": 0,
  "metadata": {
    "colab": {
      "provenance": []
    },
    "kernelspec": {
      "name": "python3",
      "display_name": "Python 3"
    },
    "language_info": {
      "name": "python"
    }
  },
  "cells": [
    {
      "cell_type": "code",
      "execution_count": 2,
      "metadata": {
        "id": "omV53EC1MYug",
        "colab": {
          "base_uri": "https://localhost:8080/"
        },
        "outputId": "eb2fe089-8d16-4933-f39c-f21d36c24caf"
      },
      "outputs": [
        {
          "output_type": "stream",
          "name": "stdout",
          "text": [
            " enter a string value : assembly\n",
            "{'a': 1, 's': 2, 'e': 1, 'm': 1, 'b': 1, 'l': 1, 'y': 1}\n"
          ]
        }
      ],
      "source": [
        "#Write a Python program to accept a string value from the user and display the count of each character in that string.\n",
        "# Sample input: Enter a string value: assembly Sample output: a=1, s=2, e=1, m=1, b=1, l=1, y=1\n",
        "\n",
        "n=input(\" enter a string value : \")\n",
        "d={}\n",
        "for i in n:\n",
        "    d[i]=d.get(i,0)+1\n",
        "print(d)"
      ]
    },
    {
      "cell_type": "code",
      "source": [
        "# Write a Python function to find the maximum input: 34,12,7 Sample output: 34\n",
        "\n",
        "l=[34, 12, 7]\n",
        "print(max(l))\n"
      ],
      "metadata": {
        "colab": {
          "base_uri": "https://localhost:8080/"
        },
        "id": "VKcKeXoEhblY",
        "outputId": "827609dd-d456-430a-e42f-1a69f390cc84"
      },
      "execution_count": 3,
      "outputs": [
        {
          "output_type": "stream",
          "name": "stdout",
          "text": [
            "34\n"
          ]
        }
      ]
    },
    {
      "cell_type": "code",
      "source": [
        "# Write a Python function to find the maximum of three numbers\n",
        "# Sample input: 34,12,7 Sample output: 34\n",
        "\n",
        "def max(a, b, c):\n",
        "    if a >= b and a >= c:\n",
        "        print(a)\n",
        "    elif b >= a and b >= c:\n",
        "        print(b)\n",
        "    else:\n",
        "        print(c)\n",
        "\n",
        "a = int(input(\"Enter the first number: \"))\n",
        "b = int(input(\"Enter the second number: \"))\n",
        "c = int(input(\"Enter the third number: \"))\n",
        "\n",
        "max(a, b, c)\n"
      ],
      "metadata": {
        "colab": {
          "base_uri": "https://localhost:8080/"
        },
        "id": "sN2cKEdiksHq",
        "outputId": "b2ac2f13-e6c7-48b8-d13c-a8f3dbdcc3c1"
      },
      "execution_count": 33,
      "outputs": [
        {
          "output_type": "stream",
          "name": "stdout",
          "text": [
            "Enter the first number: 33\n",
            "Enter the second number: 23\n",
            "Enter the third number: 12\n",
            "33\n"
          ]
        }
      ]
    },
    {
      "cell_type": "code",
      "source": [
        "# Write a Python function called exponent(base,exp) that returns an integer value of base raises to the power of exp.\n",
        "# Sample input: Enter the base: 2 Enter the exponent: 3 Sample output: 8\n",
        "\n",
        "\n",
        "def exponent(base,exp):\n",
        "  return base**exp\n",
        "base=int(input(\"Enter the base: \"))\n",
        "exp=int(input(\"Enter the exponent: \"))\n",
        "print(exponent(base,exp))"
      ],
      "metadata": {
        "colab": {
          "base_uri": "https://localhost:8080/"
        },
        "id": "2cl203eAlsrg",
        "outputId": "f19a45b9-8803-4303-86b6-2e73e45c7274"
      },
      "execution_count": 34,
      "outputs": [
        {
          "output_type": "stream",
          "name": "stdout",
          "text": [
            "Enter the base: 2\n",
            "Enter the exponent: 3\n",
            "8\n"
          ]
        }
      ]
    },
    {
      "cell_type": "code",
      "source": [
        "# Write a Python function that takes a positive integer and returns the sum of the cube of all the positive integers smaller than the specified number.\n",
        "# Sample input: 4 Sample output: 36.\n",
        "\n",
        "def sum_of_cube(n):\n",
        "    sum = 0\n",
        "    for i in range(1, n ):\n",
        "        sum += i**3\n",
        "    return sum\n",
        "\n",
        "n = int(input(\"Enter a positive integer: \"))\n",
        "print(sum_of_cube(n))"
      ],
      "metadata": {
        "colab": {
          "base_uri": "https://localhost:8080/"
        },
        "id": "d9nNYsyNtC2m",
        "outputId": "ac4e36db-33f3-41bf-c24e-7e9f756f80f7"
      },
      "execution_count": 41,
      "outputs": [
        {
          "output_type": "stream",
          "name": "stdout",
          "text": [
            "Enter a positive integer: 4\n",
            "36\n"
          ]
        }
      ]
    },
    {
      "cell_type": "code",
      "source": [
        "# Write a Python program which iterates from 1 to 10. For multiples of 2, print “Fizz” instead of the number and for the multiples of 5, print “Buzz”. For numbers which are multiples of both 2 and 5, print “FizzBuzz”.\n",
        "# Sample input: numbers from 1 to 10 Sample output: 1 Fizz 3 Fizz Buzz Fizz 7 Fizz 9 FizzBuzz\n",
        "\n",
        "\n",
        "for i in range(1, 11):\n",
        "    if i % 2 == 0 and i % 5 == 0:\n",
        "        print(\"FizzBuzz\")\n",
        "    elif i % 2 == 0:\n",
        "        print(\"Fizz\")\n",
        "    elif i % 5 == 0:\n",
        "        print(\"Buzz\")\n",
        "    else:\n",
        "        print(i)\n",
        "\n",
        "\n"
      ],
      "metadata": {
        "colab": {
          "base_uri": "https://localhost:8080/"
        },
        "id": "PzHpb19kt6x7",
        "outputId": "93f679f7-e4fb-418d-9488-8f918e88590e"
      },
      "execution_count": 51,
      "outputs": [
        {
          "output_type": "stream",
          "name": "stdout",
          "text": [
            "1\n",
            "Fizz\n",
            "3\n",
            "Fizz\n",
            "Buzz\n",
            "Fizz\n",
            "7\n",
            "Fizz\n",
            "9\n",
            "FizzBuzz\n"
          ]
        }
      ]
    },
    {
      "cell_type": "code",
      "source": [
        "#Write a Python program to find the most frequent item in a list of numbers.\n",
        "# Sample input: 2, 3, 4, 2, 5, 2 Sample output: 2\n",
        "\n",
        "l=[2, 3, 4, 2, 5, 2]\n",
        "d={}\n",
        "for i in l:\n",
        "    d[i]=d.get(i,0)+1\n",
        "print(d)\n"
      ],
      "metadata": {
        "colab": {
          "base_uri": "https://localhost:8080/"
        },
        "id": "uDAVOQCavueV",
        "outputId": "c0253218-f9e7-488c-d643-4ef712075345"
      },
      "execution_count": 52,
      "outputs": [
        {
          "output_type": "stream",
          "name": "stdout",
          "text": [
            "{2: 3, 3: 1, 4: 1, 5: 1}\n"
          ]
        }
      ]
    },
    {
      "cell_type": "code",
      "source": [
        "# Write a Python program to find the sum of squares of the numbers in a list.\n",
        "# Sample input: 2,1,3,1 Sample output: 15\n",
        "\n",
        "l=[2,1,3,1]\n",
        "sum=0\n",
        "for i in l:\n",
        "    sum+=i**2\n",
        "print(sum)\n",
        "\n",
        "\n"
      ],
      "metadata": {
        "colab": {
          "base_uri": "https://localhost:8080/"
        },
        "id": "GzRxbdlUzLMH",
        "outputId": "8b2469af-3220-4c05-e094-3183d4f3b0a7"
      },
      "execution_count": 56,
      "outputs": [
        {
          "output_type": "stream",
          "name": "stdout",
          "text": [
            "15\n"
          ]
        }
      ]
    },
    {
      "cell_type": "code",
      "source": [
        "#Write a Python program using for loop that will iterate from 1 to 15. For each iteration, check if the current number is odd or even, and display the message to the screen as odd or even.\n",
        "# Sample input: 1….15\n",
        "# Sample output: 1-odd 2-even …. 15-odd\n",
        "\n",
        "for i in range(1,16):\n",
        "    if i%2==0:\n",
        "        print(i,\"even\")\n",
        "    else:\n",
        "        print(i,\"odd\")"
      ],
      "metadata": {
        "colab": {
          "base_uri": "https://localhost:8080/"
        },
        "id": "Ub6pPJCV0rPE",
        "outputId": "b7615e51-49e4-4b83-e674-0df2695bec12"
      },
      "execution_count": 59,
      "outputs": [
        {
          "output_type": "stream",
          "name": "stdout",
          "text": [
            "1 odd\n",
            "2 even\n",
            "3 odd\n",
            "4 even\n",
            "5 odd\n",
            "6 even\n",
            "7 odd\n",
            "8 even\n",
            "9 odd\n",
            "10 even\n",
            "11 odd\n",
            "12 even\n",
            "13 odd\n",
            "14 even\n",
            "15 odd\n"
          ]
        }
      ]
    },
    {
      "cell_type": "code",
      "source": [
        "# Write a Python program to convert temperatures to and from Celsius Fahrenheit.\n",
        "#[Formula: c/5=f-32/9 where c=temperature in Celsius and f= temperature in Fahrenheit.]\n",
        "#Sample input: Temperature in Fahrenheit =41 Sample output: Temperature in Celsius =5\n",
        "\n",
        "f=int(input(\"Temperature in Fahrenheit =\"))\n",
        "c=(f-32)*5/9\n",
        "print(\"Temperature in Celsius =\",c)"
      ],
      "metadata": {
        "colab": {
          "base_uri": "https://localhost:8080/"
        },
        "id": "VGXxoE3q1Xr_",
        "outputId": "d1d07cff-3e31-4fc8-cdac-bb45dac061ea"
      },
      "execution_count": 63,
      "outputs": [
        {
          "output_type": "stream",
          "name": "stdout",
          "text": [
            "Temperature in Fahrenheit =41\n",
            "Temperature in Celsius = 5.0\n"
          ]
        }
      ]
    },
    {
      "cell_type": "code",
      "source": [
        "#Write a Python function to calculate the factorial of a number (a nonnegative integer). The function accepts the number as an argument.\n",
        "# Sample input: 3 Sample output: 6\n",
        "\n",
        "def factorial(n):\n",
        "    fact=1\n",
        "    for i in range(1,n+1):\n",
        "        fact*=i\n",
        "    return fact\n",
        "n=int(input(\"Enter a number: \"))\n",
        "print(factorial(n))"
      ],
      "metadata": {
        "colab": {
          "base_uri": "https://localhost:8080/"
        },
        "id": "KiefmIWT19ar",
        "outputId": "f64310f0-a53d-4105-f90a-494dc53f8ad6"
      },
      "execution_count": 67,
      "outputs": [
        {
          "output_type": "stream",
          "name": "stdout",
          "text": [
            "Enter a number: 3\n",
            "6\n"
          ]
        }
      ]
    },
    {
      "cell_type": "code",
      "source": [],
      "metadata": {
        "id": "Pod8aooM3h7q"
      },
      "execution_count": null,
      "outputs": []
    }
  ]
}