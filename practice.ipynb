{
  "nbformat": 4,
  "nbformat_minor": 0,
  "metadata": {
    "colab": {
      "provenance": []
    },
    "kernelspec": {
      "name": "python3",
      "display_name": "Python 3"
    },
    "language_info": {
      "name": "python"
    }
  },
  "cells": [
    {
      "cell_type": "code",
      "execution_count": null,
      "metadata": {
        "colab": {
          "base_uri": "https://localhost:8080/"
        },
        "id": "d4Rd-pELf4kT",
        "outputId": "abfec210-893f-4450-cc50-76f26b52f031"
      },
      "outputs": [
        {
          "output_type": "stream",
          "name": "stdout",
          "text": [
            "Enter the radius :3\n",
            "Area of the circle is  28.259999999999998\n"
          ]
        }
      ],
      "source": [
        "#Write a Python program which accepts the radius of a circle from the user and compute the area\n",
        "\n",
        "r = int(input(\"Enter the radius :\"))\n",
        "a = 3.14*r*r\n",
        "print(\"Area of the circle is \", a)"
      ]
    },
    {
      "cell_type": "code",
      "source": [
        " #Write a Python Program to accept the details of a student like name, roll number and mark and display it\n",
        "\n",
        "#Enter the roll number: 21\n",
        "#Sample output: Name: Anisha\n",
        "#Roll No: 21\n",
        "#Mark: 78\n",
        "\n",
        "\n",
        "r = int(input(\"Enter the roll number : \"))\n",
        "n = input(\" Enter the name : \")\n",
        "m = input(\"Enter the mark : \")\n",
        "print( \"Roll No: \" , r)\n",
        "print( \" Mark : \", m)"
      ],
      "metadata": {
        "colab": {
          "base_uri": "https://localhost:8080/"
        },
        "id": "IUWJtZYYhl2_",
        "outputId": "c6a4f8d9-bb89-4e86-edbe-173c68954684"
      },
      "execution_count": null,
      "outputs": [
        {
          "output_type": "stream",
          "name": "stdout",
          "text": [
            "Enter the roll number : 21\n",
            " Enter the name : ayisha\n",
            "Enter the mark : 45\n",
            "Roll No:  21\n",
            " Mark :  45\n"
          ]
        }
      ]
    },
    {
      "cell_type": "code",
      "source": [
        "#Write a Python program to get the largest number from a list.\n",
        "#Sample input: 12, 3, 47, 10\n",
        "#Sample output: 47 is the largest number.\n",
        "\n",
        "l = [ 12, 3, 47, 10]\n",
        "print(max(l))\n",
        "\n",
        "\n",
        "\n"
      ],
      "metadata": {
        "id": "bK2uxG0gk1_j",
        "colab": {
          "base_uri": "https://localhost:8080/"
        },
        "outputId": "03468b79-0d23-4394-b7e3-431ea4ae4998"
      },
      "execution_count": null,
      "outputs": [
        {
          "output_type": "stream",
          "name": "stdout",
          "text": [
            "47\n"
          ]
        }
      ]
    },
    {
      "cell_type": "code",
      "source": [
        "#Given a range of first 10 numbers, write a Python program to iterate from\n",
        "#start number to the end number and print the sum of the current number\n",
        "#Sample input: 1….10\n",
        "#Sample output: Current Number 1 Previous Number 0 Sum: 1 Current\n",
        "#Number 2 Previous Number 1 Sum: 3 Current Number 3 Previous\n",
        "#Number 2 Sum: 5… Current Number 10 Previous Number 9 Sum: 19\n",
        "\n",
        "\n",
        "#p=previous number\n",
        "#i= current number\n",
        "\n",
        "def main():\n",
        "  p = 0\n",
        "  for i in range(1, 11):\n",
        "    sum = i + p\n",
        "    print(f\"Current Number {i} Previous Number {p} Sum: {sum}\")\n",
        "    p = i\n",
        "main()\n"
      ],
      "metadata": {
        "id": "Z1kkejLhYwBO",
        "colab": {
          "base_uri": "https://localhost:8080/"
        },
        "outputId": "ebd7aaaa-2f84-40e8-d9cf-84711f8ef088"
      },
      "execution_count": 20,
      "outputs": [
        {
          "output_type": "stream",
          "name": "stdout",
          "text": [
            "Current Number 1 Previous Number 0 Sum: 1\n",
            "Current Number 2 Previous Number 1 Sum: 3\n",
            "Current Number 3 Previous Number 2 Sum: 5\n",
            "Current Number 4 Previous Number 3 Sum: 7\n",
            "Current Number 5 Previous Number 4 Sum: 9\n",
            "Current Number 6 Previous Number 5 Sum: 11\n",
            "Current Number 7 Previous Number 6 Sum: 13\n",
            "Current Number 8 Previous Number 7 Sum: 15\n",
            "Current Number 9 Previous Number 8 Sum: 17\n",
            "Current Number 10 Previous Number 9 Sum: 19\n"
          ]
        }
      ]
    },
    {
      "cell_type": "code",
      "source": [
        "#Write a Python program to print only those numbers which are divisible of 5.\n",
        "#Sample input: 10, 20,33,46,55 Sample output: 10, 20, 55\n",
        "\n",
        "l = [10,20,33,46,55]\n",
        "for i in l:\n",
        "  if(i%5==0):\n",
        "    print(i)"
      ],
      "metadata": {
        "id": "OpC_po5NZLtc",
        "colab": {
          "base_uri": "https://localhost:8080/"
        },
        "outputId": "867ffb72-4a8f-4631-85f0-51c9cb724876"
      },
      "execution_count": 25,
      "outputs": [
        {
          "output_type": "stream",
          "name": "stdout",
          "text": [
            "10\n",
            "20\n",
            "55\n"
          ]
        }
      ]
    },
    {
      "cell_type": "code",
      "source": [
        "#Write a Python program to check whether a number is prime or not.\n",
        "#Sample input: Enter the number: 3\n",
        "#Sample output: 3 is a prime number\n",
        "\n",
        "n=int(input(\"enter a number\"))\n",
        "c=0\n",
        "for i in range(1,n+1):\n",
        "  if(n%i==0):\n",
        "    c=c+1\n",
        "if(c==2):\n",
        "  print(n, \"is a prime number\")\n",
        "else:\n",
        "  print(n, \"is not a prime number\")\n",
        "\n",
        "\n"
      ],
      "metadata": {
        "colab": {
          "base_uri": "https://localhost:8080/"
        },
        "id": "LB1xihDNpULP",
        "outputId": "419fb315-6cda-4f14-a7a0-dc6a0adb2241"
      },
      "execution_count": 29,
      "outputs": [
        {
          "output_type": "stream",
          "name": "stdout",
          "text": [
            "enter a number3\n",
            "3 is a prime number\n"
          ]
        }
      ]
    },
    {
      "cell_type": "code",
      "source": [
        "#Write a Python program to reverse a list using for loop.\n",
        "#Sample input: 10,40,30,70\n",
        "#Sample output: 70,30,40,10\n",
        "\n",
        "l=[10, 40, 30, 70]\n",
        "for i in range(len(l)-1, -1, -1):\n",
        "  print(l[i], end=\" \")"
      ],
      "metadata": {
        "colab": {
          "base_uri": "https://localhost:8080/"
        },
        "id": "VFqLtG9l3RRV",
        "outputId": "8f6d9f1f-ab40-4bef-99f4-f5aaca4f5538"
      },
      "execution_count": 33,
      "outputs": [
        {
          "output_type": "stream",
          "name": "stdout",
          "text": [
            "70 30 40 10 "
          ]
        }
      ]
    },
    {
      "cell_type": "code",
      "source": [
        "#Write a Python program to print the following pattern.\n",
        "#*\n",
        "#**\n",
        "#***\n",
        "#****\n",
        "\n",
        "i=1\n",
        "while i<=4:\n",
        "  j=1\n",
        "  while j<=i:\n",
        "    print(\"*\",end=\" \")\n",
        "    j=j+1\n",
        "  print()\n",
        "  i=i+1"
      ],
      "metadata": {
        "colab": {
          "base_uri": "https://localhost:8080/"
        },
        "id": "OS2CWS4G4YyV",
        "outputId": "04accf8c-cdd3-49a8-801b-fa64c6b3ff36"
      },
      "execution_count": 40,
      "outputs": [
        {
          "output_type": "stream",
          "name": "stdout",
          "text": [
            "* \n",
            "* * \n",
            "* * * \n",
            "* * * * \n"
          ]
        }
      ]
    },
    {
      "cell_type": "code",
      "source": [
        "# @title Default title text\n",
        "#Write a Python program to find the maximum of three numbers\n",
        "#Sample input: 34,12,7\n",
        "#Sample output: 34\n",
        "\n",
        "l =[34, 12, 7]\n",
        "print(max(l))\n"
      ],
      "metadata": {
        "colab": {
          "base_uri": "https://localhost:8080/"
        },
        "id": "mqWqTR9Q7nzm",
        "outputId": "dca0c3d8-9c54-4a2f-d8e4-1e7f0c538f6c"
      },
      "execution_count": 44,
      "outputs": [
        {
          "output_type": "stream",
          "name": "stdout",
          "text": [
            "34\n"
          ]
        }
      ]
    },
    {
      "cell_type": "code",
      "source": [
        "#Write a Python program to construct the following pattern, using a nested for loop.\n",
        "#*\n",
        "#**\n",
        "#***\n",
        "#****\n",
        "#*****\n",
        "#****\n",
        "#***\n",
        "#**\n",
        "#*\n",
        "\n",
        "def pattern(n):\n",
        "  for i in range(1, n + 1):\n",
        "    print(\"*\" * i)\n",
        "  for i in range(n - 1, 0, -1):\n",
        "    print(\"*\" * i)\n",
        "pattern(5)\n",
        "\n",
        "\n"
      ],
      "metadata": {
        "colab": {
          "base_uri": "https://localhost:8080/"
        },
        "id": "CKW3hVma79Je",
        "outputId": "c2c8a77a-1a2f-414b-a589-d37f6763db2f"
      },
      "execution_count": 88,
      "outputs": [
        {
          "output_type": "stream",
          "name": "stdout",
          "text": [
            "*\n",
            "**\n",
            "***\n",
            "****\n",
            "*****\n",
            "****\n",
            "***\n",
            "**\n",
            "*\n"
          ]
        }
      ]
    },
    {
      "cell_type": "code",
      "source": [],
      "metadata": {
        "id": "Cnc8nEXg9g73"
      },
      "execution_count": 86,
      "outputs": []
    }
  ]
}